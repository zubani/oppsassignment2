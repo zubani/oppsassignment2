{
 "cells": [
  {
   "cell_type": "code",
   "execution_count": 1,
   "id": "24db7f67-afb8-46ec-8eff-8ab49fd585f8",
   "metadata": {},
   "outputs": [
    {
     "name": "stdout",
     "output_type": "stream",
     "text": [
      "('Hyundai', 150, 60)\n"
     ]
    }
   ],
   "source": [
    "# Q1, Create a vehicle class with an init method having instance variables as name_of_vehicle, max_speed\n",
    "# and average_of_vehicle.\n",
    "\n",
    "class Vehicle:\n",
    "    def __init__(self, name_of_vehicle, max_speed, average_of_vehicle):\n",
    "        self.name_of_vehicle = name_of_vehicle\n",
    "        self.max_speed = max_speed\n",
    "        self.average_of_vehicle = average_of_vehicle\n",
    "\n",
    "    def return_vehicle_details(self):\n",
    "        return self.name_of_vehicle, self.max_speed, self.average_of_vehicle\n",
    "komal = Vehicle(\"Hyundai\", 150, 60)\n",
    "print(komal.return_vehicle_details())"
   ]
  },
  {
   "cell_type": "code",
   "execution_count": 2,
   "id": "c79a444f-cfea-4eca-b37f-8e39552e723e",
   "metadata": {},
   "outputs": [
    {
     "name": "stdout",
     "output_type": "stream",
     "text": [
      "('Hyundai', 150, 60)\n",
      "('Toyota', 180, 60)\n",
      "Toyota - Seating Capacity: 5\n"
     ]
    }
   ],
   "source": [
    "#Q2. Create a child class car from the vehicle class created in Que 1, which will inherit the vehicle class.\n",
    "#Create a method named seating_capacity which takes capacity as an argument and returns the name of\n",
    "#the vehicle and its seating capacity.\n",
    "\n",
    "class Car(Vehicle):\n",
    "    def seating_capacity(self, capacity):\n",
    "        return f\"{self.name_of_vehicle} - Seating Capacity: {capacity}\"\n",
    "\n",
    "\n",
    "komal = Vehicle(\"Hyundai\", 150, 60)\n",
    "print(komal.return_vehicle_details())\n",
    "\n",
    "child_test_obj = Car(\"Toyota\", 180, 60)\n",
    "print(child_test_obj.return_vehicle_details())\n",
    "print(child_test_obj.seating_capacity(5))"
   ]
  },
  {
   "cell_type": "code",
   "execution_count": 3,
   "id": "8c8f271f-f1c9-4712-a474-6d025ea9f08a",
   "metadata": {},
   "outputs": [
    {
     "name": "stdout",
     "output_type": "stream",
     "text": [
      "this is my meth of class 1\n",
      "this is my meth of class 2\n"
     ]
    }
   ],
   "source": [
    "#Q3. What is multiple inheritance? Write a python code to demonstrate multiple inheritance.\n",
    "#multiple inheritence is like class 1 is containinng class 2 ans class 2 is containing class 3\n",
    "class class1:\n",
    "    def test_class1(self):\n",
    "        return \"this is my meth of class 1\"\n",
    "class class2(class1):\n",
    "    def test_class2(self):\n",
    "        return \"this is my meth of class 2\"\n",
    "class class3(class2):\n",
    "    pass\n",
    "komal=class3()\n",
    "print(komal.test_class1())\n",
    "print(komal.test_class2())"
   ]
  },
  {
   "cell_type": "code",
   "execution_count": null,
   "id": "04053109-d327-40e5-b27c-1fc6b9049c67",
   "metadata": {},
   "outputs": [],
   "source": []
  },
  {
   "cell_type": "code",
   "execution_count": null,
   "id": "1a8aac4f-4cdd-4343-a143-12642009b60a",
   "metadata": {},
   "outputs": [],
   "source": []
  },
  {
   "cell_type": "code",
   "execution_count": null,
   "id": "6fa52309-dc03-4199-9175-d1d79f1d3676",
   "metadata": {},
   "outputs": [],
   "source": []
  },
  {
   "cell_type": "code",
   "execution_count": null,
   "id": "c77eb665-9bdd-4542-8719-182f6305f2ef",
   "metadata": {},
   "outputs": [],
   "source": []
  },
  {
   "cell_type": "code",
   "execution_count": null,
   "id": "234544f8-ce56-4bbe-aa29-c21e35724864",
   "metadata": {},
   "outputs": [],
   "source": []
  },
  {
   "cell_type": "code",
   "execution_count": null,
   "id": "9933df7a-a6ea-47e9-beb1-25062a6d22e2",
   "metadata": {},
   "outputs": [],
   "source": []
  },
  {
   "cell_type": "code",
   "execution_count": null,
   "id": "a82ddc48-6673-428e-a7d9-13cb604eda9e",
   "metadata": {},
   "outputs": [],
   "source": []
  },
  {
   "cell_type": "code",
   "execution_count": null,
   "id": "95137ddf-737f-47b5-b301-dd061418c081",
   "metadata": {},
   "outputs": [],
   "source": []
  },
  {
   "cell_type": "code",
   "execution_count": null,
   "id": "b35f34db-c76c-4b43-866a-392a49ab74a5",
   "metadata": {},
   "outputs": [],
   "source": []
  },
  {
   "cell_type": "code",
   "execution_count": null,
   "id": "99f21520-4756-4df9-9a96-40a67e323f94",
   "metadata": {},
   "outputs": [],
   "source": []
  },
  {
   "cell_type": "code",
   "execution_count": null,
   "id": "6676143b-4647-461b-b866-74cbc0359ca2",
   "metadata": {},
   "outputs": [],
   "source": []
  },
  {
   "cell_type": "code",
   "execution_count": null,
   "id": "db40c1f0-0014-48a2-b701-92c97de6dbbe",
   "metadata": {},
   "outputs": [],
   "source": []
  },
  {
   "cell_type": "code",
   "execution_count": null,
   "id": "5165a799-da24-48e1-93e4-006db9501820",
   "metadata": {},
   "outputs": [],
   "source": []
  },
  {
   "cell_type": "code",
   "execution_count": null,
   "id": "2987a7e3-ac86-408c-ba23-f9d78ada87e6",
   "metadata": {},
   "outputs": [],
   "source": []
  }
 ],
 "metadata": {
  "kernelspec": {
   "display_name": "Python 3 (ipykernel)",
   "language": "python",
   "name": "python3"
  },
  "language_info": {
   "codemirror_mode": {
    "name": "ipython",
    "version": 3
   },
   "file_extension": ".py",
   "mimetype": "text/x-python",
   "name": "python",
   "nbconvert_exporter": "python",
   "pygments_lexer": "ipython3",
   "version": "3.10.8"
  }
 },
 "nbformat": 4,
 "nbformat_minor": 5
}
